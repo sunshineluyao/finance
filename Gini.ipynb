{
  "nbformat": 4,
  "nbformat_minor": 0,
  "metadata": {
    "colab": {
      "provenance": [],
      "authorship_tag": "ABX9TyNfGqMWAm9GElETWcOm0ghA",
      "include_colab_link": true
    },
    "kernelspec": {
      "name": "python3",
      "display_name": "Python 3"
    },
    "language_info": {
      "name": "python"
    }
  },
  "cells": [
    {
      "cell_type": "markdown",
      "metadata": {
        "id": "view-in-github",
        "colab_type": "text"
      },
      "source": [
        "<a href=\"https://colab.research.google.com/github/sunshineluyao/finance/blob/main/Gini.ipynb\" target=\"_parent\"><img src=\"https://colab.research.google.com/assets/colab-badge.svg\" alt=\"Open In Colab\"/></a>"
      ]
    },
    {
      "cell_type": "code",
      "source": [
        "def gini_coefficient(values):\n",
        "    \"\"\"\n",
        "    Compute Gini coefficient of an array of values\n",
        "    \"\"\"\n",
        "    # Check if list is empty\n",
        "    if len(values) == 0:\n",
        "        return None\n",
        "\n",
        "    # Sort the values\n",
        "    values = sorted(values)\n",
        "\n",
        "    # Compute the cumulative sum of the values and their indices\n",
        "    cum_values = [0]\n",
        "    for i in values:\n",
        "        cum_values.append(cum_values[-1] + i)\n",
        "\n",
        "    n = len(values)\n",
        "\n",
        "    # Calculate Gini coefficient using the formula\n",
        "    numer = sum([(i+1) * values[i] for i in range(n)])\n",
        "    denom = n * sum(values)\n",
        "\n",
        "    if denom == 0:\n",
        "        return None  # Avoid division by zero\n",
        "\n",
        "    gini = (2 * numer) / denom - (n + 1) / n\n",
        "\n",
        "    return gini\n",
        "\n",
        "# Test\n",
        "values1 = [1, 1, 1, 1, 1, 1, 1, 1, 1, 1, 1, 1, 1, 1, 1, 1, 1, 1, 1, 1]\n",
        "values2 = [10,5,3,2]\n",
        "values2_2 = [10,5,3,2,0]\n",
        "values3 = [10,8,7,5]\n",
        "values3_2 = [10,8,7,5,0]\n",
        "values4 =[10,10,10,10,10]\n",
        "print(gini_coefficient(values1), gini_coefficient(values2), gini_coefficient(values3),gini_coefficient(values4))\n",
        "print(gini_coefficient(values1), gini_coefficient(values2_2), gini_coefficient(values3_2),gini_coefficient(values4))\n"
      ],
      "metadata": {
        "colab": {
          "base_uri": "https://localhost:8080/"
        },
        "id": "ZkvlAmzHF-LV",
        "outputId": "c6c09cf5-735c-487f-b9e2-228a39c50a99"
      },
      "execution_count": 1,
      "outputs": [
        {
          "output_type": "stream",
          "name": "stdout",
          "text": [
            "0.0 0.32499999999999996 0.1333333333333333 0.0\n",
            "0.0 0.45999999999999996 0.30666666666666664 0.0\n"
          ]
        }
      ]
    }
  ]
}